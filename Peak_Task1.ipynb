{
  "nbformat": 4,
  "nbformat_minor": 0,
  "metadata": {
    "colab": {
      "provenance": [],
      "authorship_tag": "ABX9TyO6//+dlb4Jf8NhO0fkVKG2",
      "include_colab_link": true
    },
    "kernelspec": {
      "name": "python3",
      "display_name": "Python 3"
    },
    "language_info": {
      "name": "python"
    }
  },
  "cells": [
    {
      "cell_type": "markdown",
      "metadata": {
        "id": "view-in-github",
        "colab_type": "text"
      },
      "source": [
        "<a href=\"https://colab.research.google.com/github/ThomasWarford/team_11/blob/main/Peak_Task1.ipynb\" target=\"_parent\"><img src=\"https://colab.research.google.com/assets/colab-badge.svg\" alt=\"Open In Colab\"/></a>"
      ]
    },
    {
      "cell_type": "markdown",
      "source": [],
      "metadata": {
        "id": "vkMdaRDdgW49"
      }
    },
    {
      "cell_type": "markdown",
      "source": [
        "**TASK 1 - Exploratory Data Analysis**\n"
      ],
      "metadata": {
        "id": "LPM3XRUDgYIZ"
      }
    },
    {
      "cell_type": "code",
      "source": [
        "import pandas as pd\n",
        "import numpy as np"
      ],
      "metadata": {
        "id": "CUlMKZqignOJ"
      },
      "execution_count": 2,
      "outputs": []
    },
    {
      "cell_type": "code",
      "source": [
        "df_customer = pd.read_csv('CUSTOMER.csv') #Reading Customer Data into Dataframe"
      ],
      "metadata": {
        "id": "ifP1CXa4gkQ5"
      },
      "execution_count": 3,
      "outputs": []
    },
    {
      "cell_type": "code",
      "source": [
        "df_customer.info() #Here, we recognize columns 11-16 wouldn't influence the recommendation given to future customers."
      ],
      "metadata": {
        "colab": {
          "base_uri": "https://localhost:8080/",
          "height": 0
        },
        "id": "WrgdVqvZmqyf",
        "outputId": "3b5f4455-3621-41b6-9b5f-4c678a689e6a"
      },
      "execution_count": 8,
      "outputs": [
        {
          "output_type": "stream",
          "name": "stdout",
          "text": [
            "<class 'pandas.core.frame.DataFrame'>\n",
            "RangeIndex: 536784 entries, 0 to 536783\n",
            "Data columns (total 17 columns):\n",
            " #   Column             Non-Null Count   Dtype \n",
            "---  ------             --------------   ----- \n",
            " 0   ID                 536784 non-null  object\n",
            " 1   TYPE               536784 non-null  object\n",
            " 2   GENDER             536784 non-null  object\n",
            " 3   DOB                536784 non-null  object\n",
            " 4   FIRST_NAME         536784 non-null  object\n",
            " 5   LAST_NAME          536784 non-null  object\n",
            " 6   EMAIL              536784 non-null  object\n",
            " 7   PHONE_NUMBER       536784 non-null  int64 \n",
            " 8   POST_CODE          536784 non-null  object\n",
            " 9   CITY               536784 non-null  object\n",
            " 10  COUNTRY            536784 non-null  object\n",
            " 11  POST_SUBSCRIBED    536784 non-null  bool  \n",
            " 12  SMS_SUBSCRIBED     536784 non-null  bool  \n",
            " 13  EMAIL_SUBSCRIBED   536784 non-null  bool  \n",
            " 14  PHONE_SUBSCRIBED   536784 non-null  bool  \n",
            " 15  SOCIAL_SUBSCRIBED  536784 non-null  bool  \n",
            " 16  ANONYMISE          536784 non-null  bool  \n",
            "dtypes: bool(6), int64(1), object(10)\n",
            "memory usage: 48.1+ MB\n"
          ]
        }
      ]
    },
    {
      "cell_type": "code",
      "source": [
        "df_customer.head() "
      ],
      "metadata": {
        "id": "XqI-nG9Mgbem",
        "colab": {
          "base_uri": "https://localhost:8080/",
          "height": 357
        },
        "outputId": "66b7bd13-5973-4792-8361-2816a2d5d0d0"
      },
      "execution_count": 4,
      "outputs": [
        {
          "output_type": "execute_result",
          "data": {
            "text/plain": [
              "           ID        TYPE  GENDER         DOB FIRST_NAME  LAST_NAME  \\\n",
              "0  3e0698d7a4         New    Male  1988-04-16      Zelda     Schene   \n",
              "1  3e06a74d39     Lookers    Male  2003-04-13      Betty   Asherman   \n",
              "2  3e06b7960c       Loyal    Male  1972-04-20      Gusta  Leibowitz   \n",
              "3  3e06ed2cfb  Need-based    Male  2002-04-13       Mona       Roca   \n",
              "4  3e07060e00       Loyal  Female  1998-04-14     Lesley      Bieck   \n",
              "\n",
              "                       EMAIL  PHONE_NUMBER POST_CODE        CITY COUNTRY  \\\n",
              "0     Zelda.SCHENE@yahoo.com     799947361      BH16   Liverpool      UK   \n",
              "1   Betty.ASHERMAN@yahoo.com     799947361        M1   Stockholm  Sweden   \n",
              "2  Gusta.LEIBOWITZ@yahoo.com     799947361      BH16     Seattle      US   \n",
              "3        Mona.ROCA@yahoo.com     799947361      BH16      Austin      US   \n",
              "4     Lesley.BIECK@yahoo.com     799947361        M1  Gothenburg  Sweden   \n",
              "\n",
              "   POST_SUBSCRIBED  SMS_SUBSCRIBED  EMAIL_SUBSCRIBED  PHONE_SUBSCRIBED  \\\n",
              "0             True            True              True              True   \n",
              "1             True            True              True              True   \n",
              "2             True            True              True              True   \n",
              "3             True            True              True              True   \n",
              "4             True            True              True              True   \n",
              "\n",
              "   SOCIAL_SUBSCRIBED  ANONYMISE  \n",
              "0               True       True  \n",
              "1               True       True  \n",
              "2               True       True  \n",
              "3               True       True  \n",
              "4               True       True  "
            ],
            "text/html": [
              "\n",
              "  <div id=\"df-b38b17e6-3ab8-4389-8c8d-f68a198fbc48\">\n",
              "    <div class=\"colab-df-container\">\n",
              "      <div>\n",
              "<style scoped>\n",
              "    .dataframe tbody tr th:only-of-type {\n",
              "        vertical-align: middle;\n",
              "    }\n",
              "\n",
              "    .dataframe tbody tr th {\n",
              "        vertical-align: top;\n",
              "    }\n",
              "\n",
              "    .dataframe thead th {\n",
              "        text-align: right;\n",
              "    }\n",
              "</style>\n",
              "<table border=\"1\" class=\"dataframe\">\n",
              "  <thead>\n",
              "    <tr style=\"text-align: right;\">\n",
              "      <th></th>\n",
              "      <th>ID</th>\n",
              "      <th>TYPE</th>\n",
              "      <th>GENDER</th>\n",
              "      <th>DOB</th>\n",
              "      <th>FIRST_NAME</th>\n",
              "      <th>LAST_NAME</th>\n",
              "      <th>EMAIL</th>\n",
              "      <th>PHONE_NUMBER</th>\n",
              "      <th>POST_CODE</th>\n",
              "      <th>CITY</th>\n",
              "      <th>COUNTRY</th>\n",
              "      <th>POST_SUBSCRIBED</th>\n",
              "      <th>SMS_SUBSCRIBED</th>\n",
              "      <th>EMAIL_SUBSCRIBED</th>\n",
              "      <th>PHONE_SUBSCRIBED</th>\n",
              "      <th>SOCIAL_SUBSCRIBED</th>\n",
              "      <th>ANONYMISE</th>\n",
              "    </tr>\n",
              "  </thead>\n",
              "  <tbody>\n",
              "    <tr>\n",
              "      <th>0</th>\n",
              "      <td>3e0698d7a4</td>\n",
              "      <td>New</td>\n",
              "      <td>Male</td>\n",
              "      <td>1988-04-16</td>\n",
              "      <td>Zelda</td>\n",
              "      <td>Schene</td>\n",
              "      <td>Zelda.SCHENE@yahoo.com</td>\n",
              "      <td>799947361</td>\n",
              "      <td>BH16</td>\n",
              "      <td>Liverpool</td>\n",
              "      <td>UK</td>\n",
              "      <td>True</td>\n",
              "      <td>True</td>\n",
              "      <td>True</td>\n",
              "      <td>True</td>\n",
              "      <td>True</td>\n",
              "      <td>True</td>\n",
              "    </tr>\n",
              "    <tr>\n",
              "      <th>1</th>\n",
              "      <td>3e06a74d39</td>\n",
              "      <td>Lookers</td>\n",
              "      <td>Male</td>\n",
              "      <td>2003-04-13</td>\n",
              "      <td>Betty</td>\n",
              "      <td>Asherman</td>\n",
              "      <td>Betty.ASHERMAN@yahoo.com</td>\n",
              "      <td>799947361</td>\n",
              "      <td>M1</td>\n",
              "      <td>Stockholm</td>\n",
              "      <td>Sweden</td>\n",
              "      <td>True</td>\n",
              "      <td>True</td>\n",
              "      <td>True</td>\n",
              "      <td>True</td>\n",
              "      <td>True</td>\n",
              "      <td>True</td>\n",
              "    </tr>\n",
              "    <tr>\n",
              "      <th>2</th>\n",
              "      <td>3e06b7960c</td>\n",
              "      <td>Loyal</td>\n",
              "      <td>Male</td>\n",
              "      <td>1972-04-20</td>\n",
              "      <td>Gusta</td>\n",
              "      <td>Leibowitz</td>\n",
              "      <td>Gusta.LEIBOWITZ@yahoo.com</td>\n",
              "      <td>799947361</td>\n",
              "      <td>BH16</td>\n",
              "      <td>Seattle</td>\n",
              "      <td>US</td>\n",
              "      <td>True</td>\n",
              "      <td>True</td>\n",
              "      <td>True</td>\n",
              "      <td>True</td>\n",
              "      <td>True</td>\n",
              "      <td>True</td>\n",
              "    </tr>\n",
              "    <tr>\n",
              "      <th>3</th>\n",
              "      <td>3e06ed2cfb</td>\n",
              "      <td>Need-based</td>\n",
              "      <td>Male</td>\n",
              "      <td>2002-04-13</td>\n",
              "      <td>Mona</td>\n",
              "      <td>Roca</td>\n",
              "      <td>Mona.ROCA@yahoo.com</td>\n",
              "      <td>799947361</td>\n",
              "      <td>BH16</td>\n",
              "      <td>Austin</td>\n",
              "      <td>US</td>\n",
              "      <td>True</td>\n",
              "      <td>True</td>\n",
              "      <td>True</td>\n",
              "      <td>True</td>\n",
              "      <td>True</td>\n",
              "      <td>True</td>\n",
              "    </tr>\n",
              "    <tr>\n",
              "      <th>4</th>\n",
              "      <td>3e07060e00</td>\n",
              "      <td>Loyal</td>\n",
              "      <td>Female</td>\n",
              "      <td>1998-04-14</td>\n",
              "      <td>Lesley</td>\n",
              "      <td>Bieck</td>\n",
              "      <td>Lesley.BIECK@yahoo.com</td>\n",
              "      <td>799947361</td>\n",
              "      <td>M1</td>\n",
              "      <td>Gothenburg</td>\n",
              "      <td>Sweden</td>\n",
              "      <td>True</td>\n",
              "      <td>True</td>\n",
              "      <td>True</td>\n",
              "      <td>True</td>\n",
              "      <td>True</td>\n",
              "      <td>True</td>\n",
              "    </tr>\n",
              "  </tbody>\n",
              "</table>\n",
              "</div>\n",
              "      <button class=\"colab-df-convert\" onclick=\"convertToInteractive('df-b38b17e6-3ab8-4389-8c8d-f68a198fbc48')\"\n",
              "              title=\"Convert this dataframe to an interactive table.\"\n",
              "              style=\"display:none;\">\n",
              "        \n",
              "  <svg xmlns=\"http://www.w3.org/2000/svg\" height=\"24px\"viewBox=\"0 0 24 24\"\n",
              "       width=\"24px\">\n",
              "    <path d=\"M0 0h24v24H0V0z\" fill=\"none\"/>\n",
              "    <path d=\"M18.56 5.44l.94 2.06.94-2.06 2.06-.94-2.06-.94-.94-2.06-.94 2.06-2.06.94zm-11 1L8.5 8.5l.94-2.06 2.06-.94-2.06-.94L8.5 2.5l-.94 2.06-2.06.94zm10 10l.94 2.06.94-2.06 2.06-.94-2.06-.94-.94-2.06-.94 2.06-2.06.94z\"/><path d=\"M17.41 7.96l-1.37-1.37c-.4-.4-.92-.59-1.43-.59-.52 0-1.04.2-1.43.59L10.3 9.45l-7.72 7.72c-.78.78-.78 2.05 0 2.83L4 21.41c.39.39.9.59 1.41.59.51 0 1.02-.2 1.41-.59l7.78-7.78 2.81-2.81c.8-.78.8-2.07 0-2.86zM5.41 20L4 18.59l7.72-7.72 1.47 1.35L5.41 20z\"/>\n",
              "  </svg>\n",
              "      </button>\n",
              "      \n",
              "  <style>\n",
              "    .colab-df-container {\n",
              "      display:flex;\n",
              "      flex-wrap:wrap;\n",
              "      gap: 12px;\n",
              "    }\n",
              "\n",
              "    .colab-df-convert {\n",
              "      background-color: #E8F0FE;\n",
              "      border: none;\n",
              "      border-radius: 50%;\n",
              "      cursor: pointer;\n",
              "      display: none;\n",
              "      fill: #1967D2;\n",
              "      height: 32px;\n",
              "      padding: 0 0 0 0;\n",
              "      width: 32px;\n",
              "    }\n",
              "\n",
              "    .colab-df-convert:hover {\n",
              "      background-color: #E2EBFA;\n",
              "      box-shadow: 0px 1px 2px rgba(60, 64, 67, 0.3), 0px 1px 3px 1px rgba(60, 64, 67, 0.15);\n",
              "      fill: #174EA6;\n",
              "    }\n",
              "\n",
              "    [theme=dark] .colab-df-convert {\n",
              "      background-color: #3B4455;\n",
              "      fill: #D2E3FC;\n",
              "    }\n",
              "\n",
              "    [theme=dark] .colab-df-convert:hover {\n",
              "      background-color: #434B5C;\n",
              "      box-shadow: 0px 1px 3px 1px rgba(0, 0, 0, 0.15);\n",
              "      filter: drop-shadow(0px 1px 2px rgba(0, 0, 0, 0.3));\n",
              "      fill: #FFFFFF;\n",
              "    }\n",
              "  </style>\n",
              "\n",
              "      <script>\n",
              "        const buttonEl =\n",
              "          document.querySelector('#df-b38b17e6-3ab8-4389-8c8d-f68a198fbc48 button.colab-df-convert');\n",
              "        buttonEl.style.display =\n",
              "          google.colab.kernel.accessAllowed ? 'block' : 'none';\n",
              "\n",
              "        async function convertToInteractive(key) {\n",
              "          const element = document.querySelector('#df-b38b17e6-3ab8-4389-8c8d-f68a198fbc48');\n",
              "          const dataTable =\n",
              "            await google.colab.kernel.invokeFunction('convertToInteractive',\n",
              "                                                     [key], {});\n",
              "          if (!dataTable) return;\n",
              "\n",
              "          const docLinkHtml = 'Like what you see? Visit the ' +\n",
              "            '<a target=\"_blank\" href=https://colab.research.google.com/notebooks/data_table.ipynb>data table notebook</a>'\n",
              "            + ' to learn more about interactive tables.';\n",
              "          element.innerHTML = '';\n",
              "          dataTable['output_type'] = 'display_data';\n",
              "          await google.colab.output.renderOutput(dataTable, element);\n",
              "          const docLink = document.createElement('div');\n",
              "          docLink.innerHTML = docLinkHtml;\n",
              "          element.appendChild(docLink);\n",
              "        }\n",
              "      </script>\n",
              "    </div>\n",
              "  </div>\n",
              "  "
            ]
          },
          "metadata": {},
          "execution_count": 4
        }
      ]
    },
    {
      "cell_type": "markdown",
      "source": [
        "**DROPPING THE UNNECESSARY COLUMNS for CUSTOMER dataset**"
      ],
      "metadata": {
        "id": "XS4BnLvekqf3"
      }
    },
    {
      "cell_type": "code",
      "source": [
        "df_cust_new=df_customer.drop(['POST_SUBSCRIBED','SMS_SUBSCRIBED','EMAIL_SUBSCRIBED','PHONE_SUBSCRIBED','SOCIAL_SUBSCRIBED','ANONYMISE'],axis=1)\n",
        "df_cust_new.info() #Hence we remove these columns"
      ],
      "metadata": {
        "colab": {
          "base_uri": "https://localhost:8080/",
          "height": 0
        },
        "id": "Vyd7gwFcnLf_",
        "outputId": "3f951a9d-4983-4089-b78d-89ddfb0552b9"
      },
      "execution_count": 14,
      "outputs": [
        {
          "output_type": "stream",
          "name": "stdout",
          "text": [
            "<class 'pandas.core.frame.DataFrame'>\n",
            "RangeIndex: 536784 entries, 0 to 536783\n",
            "Data columns (total 11 columns):\n",
            " #   Column        Non-Null Count   Dtype \n",
            "---  ------        --------------   ----- \n",
            " 0   ID            536784 non-null  object\n",
            " 1   TYPE          536784 non-null  object\n",
            " 2   GENDER        536784 non-null  object\n",
            " 3   DOB           536784 non-null  object\n",
            " 4   FIRST_NAME    536784 non-null  object\n",
            " 5   LAST_NAME     536784 non-null  object\n",
            " 6   EMAIL         536784 non-null  object\n",
            " 7   PHONE_NUMBER  536784 non-null  int64 \n",
            " 8   POST_CODE     536784 non-null  object\n",
            " 9   CITY          536784 non-null  object\n",
            " 10  COUNTRY       536784 non-null  object\n",
            "dtypes: int64(1), object(10)\n",
            "memory usage: 45.0+ MB\n"
          ]
        }
      ]
    },
    {
      "cell_type": "code",
      "source": [
        "## How many customers are there?## 536783    \n",
        "\n",
        "no_of_customers=df_cust_new.ID.count\n",
        "no_of_customers"
      ],
      "metadata": {
        "colab": {
          "base_uri": "https://localhost:8080/",
          "height": 0
        },
        "id": "yIkdgtLDkrwY",
        "outputId": "e12569cc-4ad8-4f89-c2f7-aa8ee24e377d"
      },
      "execution_count": 22,
      "outputs": [
        {
          "output_type": "execute_result",
          "data": {
            "text/plain": [
              "<bound method Series.count of 0         3e0698d7a4\n",
              "1         3e06a74d39\n",
              "2         3e06b7960c\n",
              "3         3e06ed2cfb\n",
              "4         3e07060e00\n",
              "             ...    \n",
              "536779    83975980ac\n",
              "536780    839766e877\n",
              "536781    8397796cf8\n",
              "536782    83978b079a\n",
              "536783    8397b5dfd1\n",
              "Name: ID, Length: 536784, dtype: object>"
            ]
          },
          "metadata": {},
          "execution_count": 22
        }
      ]
    },
    {
      "cell_type": "code",
      "source": [
        "df_cust_new"
      ],
      "metadata": {
        "colab": {
          "base_uri": "https://localhost:8080/",
          "height": 0
        },
        "id": "2vH08CEnqW5m",
        "outputId": "82bf010e-5960-443e-ce1b-71041af89cf5"
      },
      "execution_count": 23,
      "outputs": [
        {
          "output_type": "stream",
          "name": "stdout",
          "text": [
            "<class 'pandas.core.frame.DataFrame'>\n",
            "RangeIndex: 536784 entries, 0 to 536783\n",
            "Data columns (total 11 columns):\n",
            " #   Column        Non-Null Count   Dtype \n",
            "---  ------        --------------   ----- \n",
            " 0   ID            536784 non-null  object\n",
            " 1   TYPE          536784 non-null  object\n",
            " 2   GENDER        536784 non-null  object\n",
            " 3   DOB           536784 non-null  object\n",
            " 4   FIRST_NAME    536784 non-null  object\n",
            " 5   LAST_NAME     536784 non-null  object\n",
            " 6   EMAIL         536784 non-null  object\n",
            " 7   PHONE_NUMBER  536784 non-null  int64 \n",
            " 8   POST_CODE     536784 non-null  object\n",
            " 9   CITY          536784 non-null  object\n",
            " 10  COUNTRY       536784 non-null  object\n",
            "dtypes: int64(1), object(10)\n",
            "memory usage: 45.0+ MB\n"
          ]
        }
      ]
    },
    {
      "cell_type": "code",
      "source": [
        "df_cust_new.DOB."
      ],
      "metadata": {
        "colab": {
          "base_uri": "https://localhost:8080/"
        },
        "id": "JQBrVS-bslbG",
        "outputId": "6084c7ba-01c2-43d4-aadd-0a185d57ef6f"
      },
      "execution_count": 24,
      "outputs": [
        {
          "output_type": "execute_result",
          "data": {
            "text/plain": [
              "0    1988-04-16\n",
              "1    2003-04-13\n",
              "2    1972-04-20\n",
              "3    2002-04-13\n",
              "4    1998-04-14\n",
              "Name: DOB, dtype: object"
            ]
          },
          "metadata": {},
          "execution_count": 24
        }
      ]
    },
    {
      "cell_type": "code",
      "source": [
        "df_product = pd.read_csv('PRODUCT.csv')"
      ],
      "metadata": {
        "id": "lW_j4i6ajZcf"
      },
      "execution_count": 5,
      "outputs": []
    },
    {
      "cell_type": "code",
      "source": [
        "df_product.head()"
      ],
      "metadata": {
        "colab": {
          "base_uri": "https://localhost:8080/",
          "height": 423
        },
        "id": "QJjAzZENje9_",
        "outputId": "e19d506e-df83-4329-831a-f6adba5f2550"
      },
      "execution_count": 6,
      "outputs": [
        {
          "output_type": "execute_result",
          "data": {
            "text/plain": [
              "          ID                     NAME  \\\n",
              "0  735724001  AK TIN TRAPEZE DRESS D3   \n",
              "1  735724004  AK TIN TRAPEZE DRESS D3   \n",
              "2  735724006  AK TIN TRAPEZE DRESS D3   \n",
              "3  735724007  AK TIN TRAPEZE DRESS D3   \n",
              "4  735724008     AK TIN TRAPEZE DRESS   \n",
              "\n",
              "                                         DESCRIPTION  AVAILABLE  \\\n",
              "0  Wide, straight-cut dress in cotton jersey with...       True   \n",
              "1  Wide, straight-cut dress in cotton jersey with...       True   \n",
              "2  Wide, straight-cut dress in cotton jersey with...       True   \n",
              "3  Wide, straight-cut dress in cotton jersey with...       True   \n",
              "4  Wide, straight-cut dress in cotton jersey with...       True   \n",
              "\n",
              "  LAST_AVAILABLE_DATE  PRICE           CATEGORY SUB_CATEGORY SIZE COLOUR  \\\n",
              "0          2022-05-25    209  Garment Full body        Dress    L  Beige   \n",
              "1          2022-05-25     42  Garment Full body        Dress   XS  Brown   \n",
              "2          2022-05-25    170  Garment Full body        Dress   XS  Beige   \n",
              "3          2022-05-25    289  Garment Full body        Dress    S  Black   \n",
              "4          2022-05-25    217  Garment Full body        Dress    M   Mole   \n",
              "\n",
              "    GENDER                 BRAND  \n",
              "0  Divided  AK Dresses & Outdoor  \n",
              "1  Divided  AK Dresses & Outdoor  \n",
              "2  Divided  AK Dresses & Outdoor  \n",
              "3  Divided  AK Dresses & Outdoor  \n",
              "4  Divided  AK Dresses & Outdoor  "
            ],
            "text/html": [
              "\n",
              "  <div id=\"df-be057227-0cdf-49fd-8b0c-8b48f4960cd4\">\n",
              "    <div class=\"colab-df-container\">\n",
              "      <div>\n",
              "<style scoped>\n",
              "    .dataframe tbody tr th:only-of-type {\n",
              "        vertical-align: middle;\n",
              "    }\n",
              "\n",
              "    .dataframe tbody tr th {\n",
              "        vertical-align: top;\n",
              "    }\n",
              "\n",
              "    .dataframe thead th {\n",
              "        text-align: right;\n",
              "    }\n",
              "</style>\n",
              "<table border=\"1\" class=\"dataframe\">\n",
              "  <thead>\n",
              "    <tr style=\"text-align: right;\">\n",
              "      <th></th>\n",
              "      <th>ID</th>\n",
              "      <th>NAME</th>\n",
              "      <th>DESCRIPTION</th>\n",
              "      <th>AVAILABLE</th>\n",
              "      <th>LAST_AVAILABLE_DATE</th>\n",
              "      <th>PRICE</th>\n",
              "      <th>CATEGORY</th>\n",
              "      <th>SUB_CATEGORY</th>\n",
              "      <th>SIZE</th>\n",
              "      <th>COLOUR</th>\n",
              "      <th>GENDER</th>\n",
              "      <th>BRAND</th>\n",
              "    </tr>\n",
              "  </thead>\n",
              "  <tbody>\n",
              "    <tr>\n",
              "      <th>0</th>\n",
              "      <td>735724001</td>\n",
              "      <td>AK TIN TRAPEZE DRESS D3</td>\n",
              "      <td>Wide, straight-cut dress in cotton jersey with...</td>\n",
              "      <td>True</td>\n",
              "      <td>2022-05-25</td>\n",
              "      <td>209</td>\n",
              "      <td>Garment Full body</td>\n",
              "      <td>Dress</td>\n",
              "      <td>L</td>\n",
              "      <td>Beige</td>\n",
              "      <td>Divided</td>\n",
              "      <td>AK Dresses &amp; Outdoor</td>\n",
              "    </tr>\n",
              "    <tr>\n",
              "      <th>1</th>\n",
              "      <td>735724004</td>\n",
              "      <td>AK TIN TRAPEZE DRESS D3</td>\n",
              "      <td>Wide, straight-cut dress in cotton jersey with...</td>\n",
              "      <td>True</td>\n",
              "      <td>2022-05-25</td>\n",
              "      <td>42</td>\n",
              "      <td>Garment Full body</td>\n",
              "      <td>Dress</td>\n",
              "      <td>XS</td>\n",
              "      <td>Brown</td>\n",
              "      <td>Divided</td>\n",
              "      <td>AK Dresses &amp; Outdoor</td>\n",
              "    </tr>\n",
              "    <tr>\n",
              "      <th>2</th>\n",
              "      <td>735724006</td>\n",
              "      <td>AK TIN TRAPEZE DRESS D3</td>\n",
              "      <td>Wide, straight-cut dress in cotton jersey with...</td>\n",
              "      <td>True</td>\n",
              "      <td>2022-05-25</td>\n",
              "      <td>170</td>\n",
              "      <td>Garment Full body</td>\n",
              "      <td>Dress</td>\n",
              "      <td>XS</td>\n",
              "      <td>Beige</td>\n",
              "      <td>Divided</td>\n",
              "      <td>AK Dresses &amp; Outdoor</td>\n",
              "    </tr>\n",
              "    <tr>\n",
              "      <th>3</th>\n",
              "      <td>735724007</td>\n",
              "      <td>AK TIN TRAPEZE DRESS D3</td>\n",
              "      <td>Wide, straight-cut dress in cotton jersey with...</td>\n",
              "      <td>True</td>\n",
              "      <td>2022-05-25</td>\n",
              "      <td>289</td>\n",
              "      <td>Garment Full body</td>\n",
              "      <td>Dress</td>\n",
              "      <td>S</td>\n",
              "      <td>Black</td>\n",
              "      <td>Divided</td>\n",
              "      <td>AK Dresses &amp; Outdoor</td>\n",
              "    </tr>\n",
              "    <tr>\n",
              "      <th>4</th>\n",
              "      <td>735724008</td>\n",
              "      <td>AK TIN TRAPEZE DRESS</td>\n",
              "      <td>Wide, straight-cut dress in cotton jersey with...</td>\n",
              "      <td>True</td>\n",
              "      <td>2022-05-25</td>\n",
              "      <td>217</td>\n",
              "      <td>Garment Full body</td>\n",
              "      <td>Dress</td>\n",
              "      <td>M</td>\n",
              "      <td>Mole</td>\n",
              "      <td>Divided</td>\n",
              "      <td>AK Dresses &amp; Outdoor</td>\n",
              "    </tr>\n",
              "  </tbody>\n",
              "</table>\n",
              "</div>\n",
              "      <button class=\"colab-df-convert\" onclick=\"convertToInteractive('df-be057227-0cdf-49fd-8b0c-8b48f4960cd4')\"\n",
              "              title=\"Convert this dataframe to an interactive table.\"\n",
              "              style=\"display:none;\">\n",
              "        \n",
              "  <svg xmlns=\"http://www.w3.org/2000/svg\" height=\"24px\"viewBox=\"0 0 24 24\"\n",
              "       width=\"24px\">\n",
              "    <path d=\"M0 0h24v24H0V0z\" fill=\"none\"/>\n",
              "    <path d=\"M18.56 5.44l.94 2.06.94-2.06 2.06-.94-2.06-.94-.94-2.06-.94 2.06-2.06.94zm-11 1L8.5 8.5l.94-2.06 2.06-.94-2.06-.94L8.5 2.5l-.94 2.06-2.06.94zm10 10l.94 2.06.94-2.06 2.06-.94-2.06-.94-.94-2.06-.94 2.06-2.06.94z\"/><path d=\"M17.41 7.96l-1.37-1.37c-.4-.4-.92-.59-1.43-.59-.52 0-1.04.2-1.43.59L10.3 9.45l-7.72 7.72c-.78.78-.78 2.05 0 2.83L4 21.41c.39.39.9.59 1.41.59.51 0 1.02-.2 1.41-.59l7.78-7.78 2.81-2.81c.8-.78.8-2.07 0-2.86zM5.41 20L4 18.59l7.72-7.72 1.47 1.35L5.41 20z\"/>\n",
              "  </svg>\n",
              "      </button>\n",
              "      \n",
              "  <style>\n",
              "    .colab-df-container {\n",
              "      display:flex;\n",
              "      flex-wrap:wrap;\n",
              "      gap: 12px;\n",
              "    }\n",
              "\n",
              "    .colab-df-convert {\n",
              "      background-color: #E8F0FE;\n",
              "      border: none;\n",
              "      border-radius: 50%;\n",
              "      cursor: pointer;\n",
              "      display: none;\n",
              "      fill: #1967D2;\n",
              "      height: 32px;\n",
              "      padding: 0 0 0 0;\n",
              "      width: 32px;\n",
              "    }\n",
              "\n",
              "    .colab-df-convert:hover {\n",
              "      background-color: #E2EBFA;\n",
              "      box-shadow: 0px 1px 2px rgba(60, 64, 67, 0.3), 0px 1px 3px 1px rgba(60, 64, 67, 0.15);\n",
              "      fill: #174EA6;\n",
              "    }\n",
              "\n",
              "    [theme=dark] .colab-df-convert {\n",
              "      background-color: #3B4455;\n",
              "      fill: #D2E3FC;\n",
              "    }\n",
              "\n",
              "    [theme=dark] .colab-df-convert:hover {\n",
              "      background-color: #434B5C;\n",
              "      box-shadow: 0px 1px 3px 1px rgba(0, 0, 0, 0.15);\n",
              "      filter: drop-shadow(0px 1px 2px rgba(0, 0, 0, 0.3));\n",
              "      fill: #FFFFFF;\n",
              "    }\n",
              "  </style>\n",
              "\n",
              "      <script>\n",
              "        const buttonEl =\n",
              "          document.querySelector('#df-be057227-0cdf-49fd-8b0c-8b48f4960cd4 button.colab-df-convert');\n",
              "        buttonEl.style.display =\n",
              "          google.colab.kernel.accessAllowed ? 'block' : 'none';\n",
              "\n",
              "        async function convertToInteractive(key) {\n",
              "          const element = document.querySelector('#df-be057227-0cdf-49fd-8b0c-8b48f4960cd4');\n",
              "          const dataTable =\n",
              "            await google.colab.kernel.invokeFunction('convertToInteractive',\n",
              "                                                     [key], {});\n",
              "          if (!dataTable) return;\n",
              "\n",
              "          const docLinkHtml = 'Like what you see? Visit the ' +\n",
              "            '<a target=\"_blank\" href=https://colab.research.google.com/notebooks/data_table.ipynb>data table notebook</a>'\n",
              "            + ' to learn more about interactive tables.';\n",
              "          element.innerHTML = '';\n",
              "          dataTable['output_type'] = 'display_data';\n",
              "          await google.colab.output.renderOutput(dataTable, element);\n",
              "          const docLink = document.createElement('div');\n",
              "          docLink.innerHTML = docLinkHtml;\n",
              "          element.appendChild(docLink);\n",
              "        }\n",
              "      </script>\n",
              "    </div>\n",
              "  </div>\n",
              "  "
            ]
          },
          "metadata": {},
          "execution_count": 6
        }
      ]
    }
  ]
}