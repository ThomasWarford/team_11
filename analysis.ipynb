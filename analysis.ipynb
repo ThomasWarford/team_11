{
  "nbformat": 4,
  "nbformat_minor": 0,
  "metadata": {
    "colab": {
      "provenance": []
    },
    "kernelspec": {
      "name": "python3",
      "display_name": "Python 3"
    },
    "language_info": {
      "name": "python"
    }
  },
  "cells": [
    {
      "cell_type": "code",
      "execution_count": 15,
      "metadata": {
        "id": "BMaa3BGee7c8"
      },
      "outputs": [],
      "source": [
        "import zipfile\n",
        "import pandas as pd\n",
        "import numpy as np"
      ]
    },
    {
      "cell_type": "code",
      "source": [
        "URLS = {\n",
        "    \"transaction\":\"https://github.com/ThomasWarford/team_11/blob/main/transactions_1.csv.zip?raw=true\", \n",
        "    \"user\": \"https://github.com/ThomasWarford/team_11/blob/main/CUSTOMER_202304211626.csv.zip?raw=true\",\n",
        "    \"product\": \"https://github.com/ThomasWarford/team_11/blob/main/PRODUCT_202304211040.csv.zip?raw=true\",\n",
        "    }\n"
      ],
      "metadata": {
        "id": "oMxLlGYoo_SG"
      },
      "execution_count": 25,
      "outputs": []
    },
    {
      "cell_type": "code",
      "source": [
        "df_trans = pd.read_csv(URLS[\"transaction\"], compression='zip')\n",
        "df_user = pd.read_csv(URLS[\"user\"], compression='zip')\n",
        "df_product = pd.read_csv(URLS[\"product\"], compression='zip')\n"
      ],
      "metadata": {
        "id": "ZJ6typcXpFCk"
      },
      "execution_count": 7,
      "outputs": []
    },
    {
      "cell_type": "code",
      "source": [
        "len(df_trans.index)"
      ],
      "metadata": {
        "colab": {
          "base_uri": "https://localhost:8080/"
        },
        "id": "s9SndFvsrxkI",
        "outputId": "7579766e-385f-424d-a5b2-43770b0e04b9"
      },
      "execution_count": 18,
      "outputs": [
        {
          "output_type": "execute_result",
          "data": {
            "text/plain": [
              "6000000"
            ]
          },
          "metadata": {},
          "execution_count": 18
        }
      ]
    },
    {
      "cell_type": "code",
      "source": [
        "# df_trans.head()\n",
        "df_user.head()\n",
        "# df_product.head()\n"
      ],
      "metadata": {
        "colab": {
          "base_uri": "https://localhost:8080/",
          "height": 288
        },
        "id": "jxXONhxDp03M",
        "outputId": "14d9a56c-6b09-4059-860a-3b81de1506ab"
      },
      "execution_count": 24,
      "outputs": [
        {
          "output_type": "execute_result",
          "data": {
            "text/plain": [
              "           ID        TYPE  GENDER         DOB FIRST_NAME  LAST_NAME  \\\n",
              "0  3e0698d7a4         New    Male  1988-04-16      Zelda     Schene   \n",
              "1  3e06a74d39     Lookers    Male  2003-04-13      Betty   Asherman   \n",
              "2  3e06b7960c       Loyal    Male  1972-04-20      Gusta  Leibowitz   \n",
              "3  3e06ed2cfb  Need-based    Male  2002-04-13       Mona       Roca   \n",
              "4  3e07060e00       Loyal  Female  1998-04-14     Lesley      Bieck   \n",
              "\n",
              "                       EMAIL  PHONE_NUMBER POST_CODE        CITY COUNTRY  \\\n",
              "0     Zelda.SCHENE@yahoo.com     799947361      BH16   Liverpool      UK   \n",
              "1   Betty.ASHERMAN@yahoo.com     799947361        M1   Stockholm  Sweden   \n",
              "2  Gusta.LEIBOWITZ@yahoo.com     799947361      BH16     Seattle      US   \n",
              "3        Mona.ROCA@yahoo.com     799947361      BH16      Austin      US   \n",
              "4     Lesley.BIECK@yahoo.com     799947361        M1  Gothenburg  Sweden   \n",
              "\n",
              "   POST_SUBSCRIBED  SMS_SUBSCRIBED  EMAIL_SUBSCRIBED  PHONE_SUBSCRIBED  \\\n",
              "0             True            True              True              True   \n",
              "1             True            True              True              True   \n",
              "2             True            True              True              True   \n",
              "3             True            True              True              True   \n",
              "4             True            True              True              True   \n",
              "\n",
              "   SOCIAL_SUBSCRIBED  ANONYMISE  \n",
              "0               True       True  \n",
              "1               True       True  \n",
              "2               True       True  \n",
              "3               True       True  \n",
              "4               True       True  "
            ],
            "text/html": [
              "\n",
              "  <div id=\"df-0f796b0b-b543-46de-a7fd-11c7a12b9bf0\">\n",
              "    <div class=\"colab-df-container\">\n",
              "      <div>\n",
              "<style scoped>\n",
              "    .dataframe tbody tr th:only-of-type {\n",
              "        vertical-align: middle;\n",
              "    }\n",
              "\n",
              "    .dataframe tbody tr th {\n",
              "        vertical-align: top;\n",
              "    }\n",
              "\n",
              "    .dataframe thead th {\n",
              "        text-align: right;\n",
              "    }\n",
              "</style>\n",
              "<table border=\"1\" class=\"dataframe\">\n",
              "  <thead>\n",
              "    <tr style=\"text-align: right;\">\n",
              "      <th></th>\n",
              "      <th>ID</th>\n",
              "      <th>TYPE</th>\n",
              "      <th>GENDER</th>\n",
              "      <th>DOB</th>\n",
              "      <th>FIRST_NAME</th>\n",
              "      <th>LAST_NAME</th>\n",
              "      <th>EMAIL</th>\n",
              "      <th>PHONE_NUMBER</th>\n",
              "      <th>POST_CODE</th>\n",
              "      <th>CITY</th>\n",
              "      <th>COUNTRY</th>\n",
              "      <th>POST_SUBSCRIBED</th>\n",
              "      <th>SMS_SUBSCRIBED</th>\n",
              "      <th>EMAIL_SUBSCRIBED</th>\n",
              "      <th>PHONE_SUBSCRIBED</th>\n",
              "      <th>SOCIAL_SUBSCRIBED</th>\n",
              "      <th>ANONYMISE</th>\n",
              "    </tr>\n",
              "  </thead>\n",
              "  <tbody>\n",
              "    <tr>\n",
              "      <th>0</th>\n",
              "      <td>3e0698d7a4</td>\n",
              "      <td>New</td>\n",
              "      <td>Male</td>\n",
              "      <td>1988-04-16</td>\n",
              "      <td>Zelda</td>\n",
              "      <td>Schene</td>\n",
              "      <td>Zelda.SCHENE@yahoo.com</td>\n",
              "      <td>799947361</td>\n",
              "      <td>BH16</td>\n",
              "      <td>Liverpool</td>\n",
              "      <td>UK</td>\n",
              "      <td>True</td>\n",
              "      <td>True</td>\n",
              "      <td>True</td>\n",
              "      <td>True</td>\n",
              "      <td>True</td>\n",
              "      <td>True</td>\n",
              "    </tr>\n",
              "    <tr>\n",
              "      <th>1</th>\n",
              "      <td>3e06a74d39</td>\n",
              "      <td>Lookers</td>\n",
              "      <td>Male</td>\n",
              "      <td>2003-04-13</td>\n",
              "      <td>Betty</td>\n",
              "      <td>Asherman</td>\n",
              "      <td>Betty.ASHERMAN@yahoo.com</td>\n",
              "      <td>799947361</td>\n",
              "      <td>M1</td>\n",
              "      <td>Stockholm</td>\n",
              "      <td>Sweden</td>\n",
              "      <td>True</td>\n",
              "      <td>True</td>\n",
              "      <td>True</td>\n",
              "      <td>True</td>\n",
              "      <td>True</td>\n",
              "      <td>True</td>\n",
              "    </tr>\n",
              "    <tr>\n",
              "      <th>2</th>\n",
              "      <td>3e06b7960c</td>\n",
              "      <td>Loyal</td>\n",
              "      <td>Male</td>\n",
              "      <td>1972-04-20</td>\n",
              "      <td>Gusta</td>\n",
              "      <td>Leibowitz</td>\n",
              "      <td>Gusta.LEIBOWITZ@yahoo.com</td>\n",
              "      <td>799947361</td>\n",
              "      <td>BH16</td>\n",
              "      <td>Seattle</td>\n",
              "      <td>US</td>\n",
              "      <td>True</td>\n",
              "      <td>True</td>\n",
              "      <td>True</td>\n",
              "      <td>True</td>\n",
              "      <td>True</td>\n",
              "      <td>True</td>\n",
              "    </tr>\n",
              "    <tr>\n",
              "      <th>3</th>\n",
              "      <td>3e06ed2cfb</td>\n",
              "      <td>Need-based</td>\n",
              "      <td>Male</td>\n",
              "      <td>2002-04-13</td>\n",
              "      <td>Mona</td>\n",
              "      <td>Roca</td>\n",
              "      <td>Mona.ROCA@yahoo.com</td>\n",
              "      <td>799947361</td>\n",
              "      <td>BH16</td>\n",
              "      <td>Austin</td>\n",
              "      <td>US</td>\n",
              "      <td>True</td>\n",
              "      <td>True</td>\n",
              "      <td>True</td>\n",
              "      <td>True</td>\n",
              "      <td>True</td>\n",
              "      <td>True</td>\n",
              "    </tr>\n",
              "    <tr>\n",
              "      <th>4</th>\n",
              "      <td>3e07060e00</td>\n",
              "      <td>Loyal</td>\n",
              "      <td>Female</td>\n",
              "      <td>1998-04-14</td>\n",
              "      <td>Lesley</td>\n",
              "      <td>Bieck</td>\n",
              "      <td>Lesley.BIECK@yahoo.com</td>\n",
              "      <td>799947361</td>\n",
              "      <td>M1</td>\n",
              "      <td>Gothenburg</td>\n",
              "      <td>Sweden</td>\n",
              "      <td>True</td>\n",
              "      <td>True</td>\n",
              "      <td>True</td>\n",
              "      <td>True</td>\n",
              "      <td>True</td>\n",
              "      <td>True</td>\n",
              "    </tr>\n",
              "  </tbody>\n",
              "</table>\n",
              "</div>\n",
              "      <button class=\"colab-df-convert\" onclick=\"convertToInteractive('df-0f796b0b-b543-46de-a7fd-11c7a12b9bf0')\"\n",
              "              title=\"Convert this dataframe to an interactive table.\"\n",
              "              style=\"display:none;\">\n",
              "        \n",
              "  <svg xmlns=\"http://www.w3.org/2000/svg\" height=\"24px\"viewBox=\"0 0 24 24\"\n",
              "       width=\"24px\">\n",
              "    <path d=\"M0 0h24v24H0V0z\" fill=\"none\"/>\n",
              "    <path d=\"M18.56 5.44l.94 2.06.94-2.06 2.06-.94-2.06-.94-.94-2.06-.94 2.06-2.06.94zm-11 1L8.5 8.5l.94-2.06 2.06-.94-2.06-.94L8.5 2.5l-.94 2.06-2.06.94zm10 10l.94 2.06.94-2.06 2.06-.94-2.06-.94-.94-2.06-.94 2.06-2.06.94z\"/><path d=\"M17.41 7.96l-1.37-1.37c-.4-.4-.92-.59-1.43-.59-.52 0-1.04.2-1.43.59L10.3 9.45l-7.72 7.72c-.78.78-.78 2.05 0 2.83L4 21.41c.39.39.9.59 1.41.59.51 0 1.02-.2 1.41-.59l7.78-7.78 2.81-2.81c.8-.78.8-2.07 0-2.86zM5.41 20L4 18.59l7.72-7.72 1.47 1.35L5.41 20z\"/>\n",
              "  </svg>\n",
              "      </button>\n",
              "      \n",
              "  <style>\n",
              "    .colab-df-container {\n",
              "      display:flex;\n",
              "      flex-wrap:wrap;\n",
              "      gap: 12px;\n",
              "    }\n",
              "\n",
              "    .colab-df-convert {\n",
              "      background-color: #E8F0FE;\n",
              "      border: none;\n",
              "      border-radius: 50%;\n",
              "      cursor: pointer;\n",
              "      display: none;\n",
              "      fill: #1967D2;\n",
              "      height: 32px;\n",
              "      padding: 0 0 0 0;\n",
              "      width: 32px;\n",
              "    }\n",
              "\n",
              "    .colab-df-convert:hover {\n",
              "      background-color: #E2EBFA;\n",
              "      box-shadow: 0px 1px 2px rgba(60, 64, 67, 0.3), 0px 1px 3px 1px rgba(60, 64, 67, 0.15);\n",
              "      fill: #174EA6;\n",
              "    }\n",
              "\n",
              "    [theme=dark] .colab-df-convert {\n",
              "      background-color: #3B4455;\n",
              "      fill: #D2E3FC;\n",
              "    }\n",
              "\n",
              "    [theme=dark] .colab-df-convert:hover {\n",
              "      background-color: #434B5C;\n",
              "      box-shadow: 0px 1px 3px 1px rgba(0, 0, 0, 0.15);\n",
              "      filter: drop-shadow(0px 1px 2px rgba(0, 0, 0, 0.3));\n",
              "      fill: #FFFFFF;\n",
              "    }\n",
              "  </style>\n",
              "\n",
              "      <script>\n",
              "        const buttonEl =\n",
              "          document.querySelector('#df-0f796b0b-b543-46de-a7fd-11c7a12b9bf0 button.colab-df-convert');\n",
              "        buttonEl.style.display =\n",
              "          google.colab.kernel.accessAllowed ? 'block' : 'none';\n",
              "\n",
              "        async function convertToInteractive(key) {\n",
              "          const element = document.querySelector('#df-0f796b0b-b543-46de-a7fd-11c7a12b9bf0');\n",
              "          const dataTable =\n",
              "            await google.colab.kernel.invokeFunction('convertToInteractive',\n",
              "                                                     [key], {});\n",
              "          if (!dataTable) return;\n",
              "\n",
              "          const docLinkHtml = 'Like what you see? Visit the ' +\n",
              "            '<a target=\"_blank\" href=https://colab.research.google.com/notebooks/data_table.ipynb>data table notebook</a>'\n",
              "            + ' to learn more about interactive tables.';\n",
              "          element.innerHTML = '';\n",
              "          dataTable['output_type'] = 'display_data';\n",
              "          await google.colab.output.renderOutput(dataTable, element);\n",
              "          const docLink = document.createElement('div');\n",
              "          docLink.innerHTML = docLinkHtml;\n",
              "          element.appendChild(docLink);\n",
              "        }\n",
              "      </script>\n",
              "    </div>\n",
              "  </div>\n",
              "  "
            ]
          },
          "metadata": {},
          "execution_count": 24
        }
      ]
    },
    {
      "cell_type": "code",
      "source": [
        "df_user = df"
      ],
      "metadata": {
        "colab": {
          "base_uri": "https://localhost:8080/"
        },
        "id": "jiwr6OoPrS1E",
        "outputId": "64721648-24cb-44ad-d515-75ab53c682d6"
      },
      "execution_count": 17,
      "outputs": [
        {
          "output_type": "execute_result",
          "data": {
            "text/plain": [
              "367633"
            ]
          },
          "metadata": {},
          "execution_count": 17
        }
      ]
    },
    {
      "cell_type": "markdown",
      "source": [],
      "metadata": {
        "id": "AtCL1U_rqixU"
      }
    }
  ]
}